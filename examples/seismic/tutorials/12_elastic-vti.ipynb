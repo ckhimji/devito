{
 "cells": [
  {
   "cell_type": "markdown",
   "metadata": {},
   "source": [
    "## **3D elastic VTI wave equation implementation on a staggered grid**\n",
    "\n",
    "This is a first attempt at implementing the elastic wave equations in 3D vertical transversely isotropic (VTI) media as described in [1].\n",
    "\n",
    "This notebook will attempt to implement this FD scheme and recreate the results from both Numerical examples [4.1] and [4.2].\n",
    "\n",
    "<br> Chirayu Khimji \n",
    "<br> Independent Research Project \n",
    "<br> MSc Applied Computational Science and Engineering - Imperial College London \n",
    "<br> IRP Supervisors: Dr. Gerard Gorman + Dr. Rhodri Nelson\n"
   ]
  },
  {
   "cell_type": "markdown",
   "metadata": {},
   "source": [
    "## Introduction\n",
    "\n",
    "To be added in proper academic syntax\n"
   ]
  },
  {
   "cell_type": "markdown",
   "metadata": {},
   "source": [
    "## Outline\n",
    "this cell needs to be completed in more detail when tasks below are completed\n",
    "\n",
    "1. Implement 3D elastic VTI wave propagation (Vectorized Approach) using temporal high-accuracy staggered-grid finite-difference scheme\n",
    "\n",
    "2. Implement 3D elastic VTI wave propagation using an optimal k-space operator-based temporal high-accuracy staggered-grid finite-difference scheme i.e. like the paper [1].\n",
    "\n",
    "3. Testing: Compare the resultants of these two implemenations to make sure everything works"
   ]
  },
  {
   "cell_type": "markdown",
   "metadata": {},
   "source": [
    "## 3D Elastic VTI wave-equations\n",
    "The paper expresses the elastic wave equations as a set of scalar PDEs in conventional velocity-stress format: \n",
    "\n",
    "$$\n",
    "\\begin{aligned}\n",
    "\\frac{\\partial v_x}{\\partial t} &= \\frac{1}{\\rho} \\left( \\frac{\\partial \\tau_{xx}}{\\partial x} + \\frac{\\partial \\tau_{xy}}{\\partial y} + \\frac{\\partial \\tau_{xz}}{\\partial z} \\right) \\\\\n",
    "\\frac{\\partial v_y}{\\partial t} &= \\frac{1}{\\rho} \\left( \\frac{\\partial \\tau_{xy}}{\\partial x} + \\frac{\\partial \\tau_{yy}}{\\partial y} + \\frac{\\partial \\tau_{yz}}{\\partial z} \\right) \\\\\n",
    "\\frac{\\partial v_z}{\\partial t} &= \\frac{1}{\\rho} \\left( \\frac{\\partial \\tau_{xz}}{\\partial x} + \\frac{\\partial \\tau_{yz}}{\\partial y} + \\frac{\\partial \\tau_{zz}}{\\partial z} \\right) \\\\\n",
    "\\frac{\\partial \\tau_{xx}}{\\partial t} &= c_{11}\\frac{\\partial v_{x}}{\\partial x} + c_{11}\\frac{\\partial v_{y}}{\\partial y} - 2c_{66}\\frac{\\partial v_{y}}{\\partial y} + c_{13}\\frac{\\partial v_{z}}{\\partial z} \\\\\n",
    "\\frac{\\partial \\tau_{yy}}{\\partial t} &= c_{11}\\frac{\\partial v_{x}}{\\partial x} - 2c_{66}\\frac{\\partial v_{x}}{\\partial x} + c_{11}\\frac{\\partial v_{y}}{\\partial y} + c_{13}\\frac{\\partial v_{z}}{\\partial z} \\\\\n",
    "\\frac{\\partial \\tau_{zz}}{\\partial t} &= c_{13}\\frac{\\partial v_{x}}{\\partial x} + c_{13}\\frac{\\partial v_{y}}{\\partial y} + c_{33}\\frac{\\partial v_{z}}{\\partial z} \\\\\n",
    "\\frac{\\partial \\tau_{zz}}{\\partial t} &= c_{44}\\frac{\\partial v_{z}}{\\partial x} + c_{44}\\frac{\\partial v_{x}}{\\partial z} \\\\\n",
    "\\frac{\\partial \\tau_{yz}}{\\partial t} &= c_{44}\\frac{\\partial v_{z}}{\\partial y} + c_{44}\\frac{\\partial v_{y}}{\\partial z} \\\\\n",
    "\\frac{\\partial \\tau_{xy}}{\\partial t} &= c_{66}\\frac{\\partial v_{y}}{\\partial x} + c_{66}\\frac{\\partial v_{x}}{\\partial y} \\\\\n",
    "\\end{aligned}\n",
    "$$\n",
    "\n",
    "Stiffness coefficients in elastic VTI media can be given by (Thomsen 1986):\n",
    "\n",
    "$\n",
    "\\begin{aligned}\n",
    "c_{11} &= \\rho \\left(1 + 2\\epsilon\\right)v_{p0}^{2} \\\\\n",
    "c_{33} &= \\rho v_{p0}^{2} \\\\\n",
    "c_{44} &= \\rho v_{s0}^{2} \\\\\n",
    "c_{66} &= \\rho \\left(1 + 2\\gamma\\right)v_{s0}^{2} \\\\\n",
    "c_{13} &= \\rho v_{p0}^{2}\\sqrt{f\\left(f + 2\\delta\\right)} - \\rho v_{s0}^{2} \\\\\n",
    "f &= 1 - v_{s0}^{2}/v_{p0}^{2} \\\\\n",
    "\\end{aligned}\n",
    "$\n",
    "\n",
    "\n"
   ]
  },
  {
   "cell_type": "markdown",
   "metadata": {},
   "source": [
    "## Scalar PDEs converted into Vectorial form\n",
    "\n",
    "Elastic Coefficient Matrix of the VTI Media medium [2]:\n",
    "\n",
    "$C = \\begin{bmatrix}c_{11} & c_{11} - 2c_{66} & c_{13} & 0 & 0 & 0 \\\\ c_{11} - 2c_{66} & c_{11} & c_{13} & 0 & 0 & 0 \\\\ c_{13} & c_{13} & c_{33} & 0 & 0 & 0 \\\\ 0 & 0 & 0 & c_{44} & 0 & 0 \\\\ 0 & 0 & 0 & 0 & c_{44} & 0 \\\\ 0 & 0 & 0 & 0 & 0 & c_{66} \\end{bmatrix} \\\\ $\n",
    "\n",
    "The elastic coefficient matrix of a VTI Media is taken into the vectorial form of the elastic wave equation in order to derive the Scalar PDEs given by the paper [1]. In order to easily implement $C$ into the Elastic Wave equations' vectorial form, we can disregard its zero elements and spilt $C$ into two distinct $(3$x$3)$ matrices $C_1$ and $C_2$:\n",
    "\n",
    "$\n",
    "\\begin{aligned}\n",
    "C_{1} &= \\begin{bmatrix}c_{11} & c_{11} - 2c_{66} & c_{13} \\\\ c_{11} - 2c_{66} & c_{11} & c_{13} \\\\ c_{13} & c_{13} & c_{33} \\end{bmatrix} \\\\ \n",
    "\\\\\n",
    "C_{2} &= \\begin{bmatrix}c_{44} & 0 & 0 \\\\ 0 & c_{44} & 0 \\\\ 0 & 0 & c_{66} \\end{bmatrix}  \\\\\n",
    "\\\\\n",
    "\\end{aligned}\n",
    "$\n",
    "\n",
    "Using $C_1$ and $C_2$, a higher-level representation of the scalar PDEs above can be derived from Hooke's law and the equation of motion:\n",
    "\n",
    "\\begin{cases}\n",
    "&\\frac{dv}{dt} = \\nabla . \\tau \\\\\n",
    "&\\frac{d \\tau}{dt} = C_1 tr(\\nabla v) \\mathbf{I}  + C_2(\\nabla v + (\\nabla v)^T)\n",
    "\\end{cases}\n",
    "\n",
    "since $tr(\\nabla v)$ is the divergence of $v$ we can rewrite it as:\n",
    "\n",
    "\\begin{cases}\n",
    "&\\frac{dv}{dt} = \\nabla . \\tau \\\\\n",
    "&\\frac{d\\tau}{dt} = C_1 \\text{diag}(\\nabla . v) + C_2 (\\nabla v + (\\nabla v)^T)\n",
    "\\end{cases}\n",
    "\n",
    "where $v$ is a vector valued function:\n",
    "\n",
    "$v(t, x, y, z) = \\left( v_x(t, x, y, z), v_y(t, x, y, z), v_z(t, x, y, z) \\right)$\n",
    "\n",
    "and the stress $\\tau$ is a symmetric tensor valued function:\n",
    "\n",
    "\n",
    "$\\tau(t, x, y, z) = \\begin{bmatrix}\\tau_{xx}(t, x, y, z) & \\tau_{xy}(t, x, y, z) & \\tau_{xz}(t, x, y, z) \\\\\\tau_{xy}(t, x, y, z) & \\tau_{yy}(t, x, y, z) & \\tau_{xy}(t, x, y, z) \\\\ \\tau_{xz}(t, x, y, z) & \\tau_{xy}(t, x, y, z) & \\tau_{zz}(t, x, y, z) \\end{bmatrix}$\n",
    "\n",
    "\n",
    "This representation provides a higher-level of abstraction and makes the implementation of this SG-FD scheme relatively simple using Devito's high-level tensorial types.\n",
    "\n"
   ]
  },
  {
   "cell_type": "markdown",
   "metadata": {},
   "source": [
    "## Imports\n",
    "all required imports used in this notebook are below for consistency."
   ]
  },
  {
   "cell_type": "code",
   "execution_count": 2,
   "metadata": {},
   "outputs": [],
   "source": [
    "# Required imports:\n",
    "import numpy as np\n",
    "import sympy as sp\n",
    "\n",
    "from devito import *\n",
    "from examples.seismic import RickerSource, TimeAxis, Receiver\n",
    "from examples.seismic import plot_image, plot_velocity, plot_perturbation\n",
    "from examples.seismic import ModelElasticVTI\n",
    "import matplotlib as mpl\n",
    "import matplotlib.pyplot as plt\n",
    "from timeit import default_timer as timer\n",
    "\n",
    "# These lines force images to be displayed in the notebook, and scale up fonts \n",
    "%matplotlib inline\n",
    "mpl.rc('font', size=14)\n",
    "\n",
    "# define 32 bit floating point as the precision type \n",
    "dtype = np.float32\n",
    "\n",
    "# Set the default language to openmp\n",
    "#configuration['language'] = 'openmp'\n",
    "\n",
    "# Set logging to debug, captures statistics on the performance of operators\n",
    "configuration['log-level'] = 'DEBUG'"
   ]
  },
  {
   "cell_type": "markdown",
   "metadata": {},
   "source": [
    "\n",
    "## Instantiate the Devito grid for a three dimensional problem\n",
    "define the grid the same as the 3D homogenous model described in 4.1. This still needs to be fixed below is a sample structure"
   ]
  },
  {
   "cell_type": "code",
   "execution_count": 3,
   "metadata": {},
   "outputs": [
    {
     "output_type": "stream",
     "name": "stderr",
     "text": "Operator `initdamp` generated in 0.19 s\n  * lowering.Clusters: 0.08 s (42.7 %)\n     * specializing.Clusters: 0.06 s (32.1 %)\n  * lowering.IET: 0.06 s (32.1 %)\n     * specializing.IET: 0.04 s (21.4 %)\n  * lowering.Expressions: 0.05 s (26.7 %)\nFlops reduction after symbolic optimization: [102 --> 102]\nAllocating memory for damp(343, 343, 343)\nOperator `initdamp` fetched `/var/folders/kb/bc2lwpvd4kj2k3qjll_cmwp80000gn/T/devito-jitcache-uid501/fb0e24072c3f9e91a7aeeac64e83260f0d67c54b.c` in 0.08 s from jit-cache\nOperator `initdamp` run in 0.15 s\n* section0<<341,341,341>,<20,341,341>,<20,341,341>,<341,20,341>,<341,20,341>,<341,341,20>,<341,341,20>> with OI=0.01 computed in 0.15 s [1.66 GFlops/s]\nPerformance[mode=advanced] arguments: {}\nshape;            (301, 301, 301)\norigin;           (0.0, 0.0, 0.0)\nspacing;          (12.0, 12.0, 12.0)\nextent;           (3600.0, 3600.0, 3600.0)\n\ngrid.shape;       (341, 341, 341)\ngrid.origin;      (o_x, o_y, o_z)\ngrid.spacing_map; {h_x: 12.0, h_y: 12.0, h_z: 12.0}\ngrid.extent;      (4080.0, 4080.0, 4080.0)\n"
    }
   ],
   "source": [
    "# Define dimensions for the interior of the model\n",
    "nx, ny, nz = 301, 301, 301\n",
    "dx,dy,dz = 12.0, 12.0, 12.0          # Grid spacing in m\n",
    "shape = (nx, ny, nz)                 # Number of grid points\n",
    "spacing = (dx, dy, dz)               # Domain size is now 5 km by 5 km\n",
    "origin = (0., 0., 0.)                # Origin of coordinate system, specified in m.\n",
    "extent = tuple([s*(n-1) for s, n in zip(spacing, shape)])\n",
    "\n",
    "#Thomsen's anisotropy parameters\n",
    "epsilon = 0.25\n",
    "delta = -0.10\n",
    "gamma = -0.05\n",
    "\n",
    "#initial conditions\n",
    "npad = 20\n",
    "vp = 3.5 #km/s\n",
    "vs = 2.4 #km/s\n",
    "rho= 2.6 #kg/m**3\n",
    "\n",
    "so = 8 #spatial order\n",
    "to = 2 #temporal order\n",
    "\n",
    "model = ModelElasticVTI(origin=origin, spacing = spacing, shape=shape, space_order=so, \n",
    "vp=vp, vs=vs, rho=rho, epsilon=epsilon, delta=delta, gamma=gamma, nbl=npad)\n",
    "\n",
    "print(\"shape;           \", shape)\n",
    "print(\"origin;          \", origin)\n",
    "print(\"spacing;         \", spacing)\n",
    "print(\"extent;          \", extent)\n",
    "print(\"\")\n",
    "print(\"grid.shape;      \", model.grid.shape)\n",
    "print(\"grid.origin;     \", model.grid.origin)\n",
    "print(\"grid.spacing_map;\", model.grid.spacing_map)\n",
    "print(\"grid.extent;     \", model.grid.extent)"
   ]
  },
  {
   "cell_type": "code",
   "execution_count": 4,
   "metadata": {},
   "outputs": [],
   "source": [
    "# Now we create the velocity and pressure fields\n",
    "# PDE fn's:\n",
    "x, y, z = model.grid.dimensions\n",
    "damp = model.damp\n",
    "\n",
    "#Velocity\n",
    "v = VectorTimeFunction(name='v', grid=model.grid, space_order=so, time_order=to)\n",
    "\n",
    "#Stress\n",
    "tau = TensorTimeFunction(name='t', grid=model.grid, space_order=so, time_order=to)\n",
    "\n",
    "# Symbolic representation of the model grid spacing\n",
    "s = model.grid.stepping_dim.spacing \n",
    "\n",
    "##to review\n",
    "#Create the staggered grid updates\n",
    "#t = model.grid.stepping_dim\n",
    "#time = model.grid.time_dim"
   ]
  },
  {
   "cell_type": "markdown",
   "metadata": {},
   "source": [
    "## Define the simulation time range\n"
   ]
  },
  {
   "cell_type": "code",
   "execution_count": 5,
   "metadata": {},
   "outputs": [
    {
     "output_type": "stream",
     "name": "stdout",
     "text": "Time min,max,dt,num;   0.000000 1000.000000   1.683000 595\n"
    }
   ],
   "source": [
    "t0 = 0.     # Simulation time start\n",
    "tn = 1000.  # Simulation time end (1 second = 1000 msec)\n",
    "\n",
    "#dt = 1.2\n",
    "dt = model.critical_dt #CFL condition\n",
    "\n",
    "time_range = TimeAxis(start=t0, stop=tn, step=dt)\n",
    "print(\"Time min,max,dt,num; %10.6f %10.6f %10.6f %d\" % (t0, tn, dt, int(tn//dt) + 1))"
   ]
  },
  {
   "cell_type": "markdown",
   "metadata": {},
   "source": [
    "## Define the acquisition geometry: locations of explosive source and recievers\n",
    "\n",
    "For Numercial Example [4.1] in [1]:\n",
    "A 38 Hz center frequency Ricker wavelet source, located at (x, y, z) = (1800m, 1800m, 1800m) and is added into $v_x$ component to generate vibration.\n",
    "\n",
    "For Ricker wavelet, the source signature $g(t)$ is the derivative of a Gaussian pulse:\n",
    "\n",
    "$$g(t) = -2 \\alpha(t - t_0)e^{-\\alpha(t-t_0)^2}$$"
   ]
  },
  {
   "cell_type": "code",
   "execution_count": 6,
   "metadata": {},
   "outputs": [
    {
     "output_type": "stream",
     "name": "stderr",
     "text": "Allocating memory for src(596, 1)\nAllocating memory for src_coords(1, 3)\nAllocating memory for rec_coords(301, 3)\nsrc_coords [x,y,z]: [[1800. 1800. 1800.]]\n"
    },
    {
     "output_type": "display_data",
     "data": {
      "text/plain": "<Figure size 432x288 with 1 Axes>",
      "image/svg+xml": "<?xml version=\"1.0\" encoding=\"utf-8\" standalone=\"no\"?>\n<!DOCTYPE svg PUBLIC \"-//W3C//DTD SVG 1.1//EN\"\n  \"http://www.w3.org/Graphics/SVG/1.1/DTD/svg11.dtd\">\n<!-- Created with matplotlib (https://matplotlib.org/) -->\n<svg height=\"269.93875pt\" version=\"1.1\" viewBox=\"0 0 418.828676 269.93875\" width=\"418.828676pt\" xmlns=\"http://www.w3.org/2000/svg\" xmlns:xlink=\"http://www.w3.org/1999/xlink\">\n <defs>\n  <style type=\"text/css\">\n*{stroke-linecap:butt;stroke-linejoin:round;}\n  </style>\n </defs>\n <g id=\"figure_1\">\n  <g id=\"patch_1\">\n   <path d=\"M 0 269.93875 \nL 418.828676 269.93875 \nL 418.828676 0 \nL 0 0 \nz\n\" style=\"fill:none;\"/>\n  </g>\n  <g id=\"axes_1\">\n   <g id=\"patch_2\">\n    <path d=\"M 74.652813 224.64 \nL 409.452812 224.64 \nL 409.452812 7.2 \nL 74.652813 7.2 \nz\n\" style=\"fill:#ffffff;\"/>\n   </g>\n   <g id=\"matplotlib.axis_1\">\n    <g id=\"xtick_1\">\n     <g id=\"line2d_1\">\n      <defs>\n       <path d=\"M 0 0 \nL 0 3.5 \n\" id=\"mb2c2791c6f\" style=\"stroke:#000000;stroke-width:0.8;\"/>\n      </defs>\n      <g>\n       <use style=\"stroke:#000000;stroke-width:0.8;\" x=\"89.870994\" xlink:href=\"#mb2c2791c6f\" y=\"224.64\"/>\n      </g>\n     </g>\n     <g id=\"text_1\">\n      <!-- 0 -->\n      <defs>\n       <path d=\"M 31.78125 66.40625 \nQ 24.171875 66.40625 20.328125 58.90625 \nQ 16.5 51.421875 16.5 36.375 \nQ 16.5 21.390625 20.328125 13.890625 \nQ 24.171875 6.390625 31.78125 6.390625 \nQ 39.453125 6.390625 43.28125 13.890625 \nQ 47.125 21.390625 47.125 36.375 \nQ 47.125 51.421875 43.28125 58.90625 \nQ 39.453125 66.40625 31.78125 66.40625 \nz\nM 31.78125 74.21875 \nQ 44.046875 74.21875 50.515625 64.515625 \nQ 56.984375 54.828125 56.984375 36.375 \nQ 56.984375 17.96875 50.515625 8.265625 \nQ 44.046875 -1.421875 31.78125 -1.421875 \nQ 19.53125 -1.421875 13.0625 8.265625 \nQ 6.59375 17.96875 6.59375 36.375 \nQ 6.59375 54.828125 13.0625 64.515625 \nQ 19.53125 74.21875 31.78125 74.21875 \nz\n\" id=\"DejaVuSans-48\"/>\n      </defs>\n      <g transform=\"translate(85.417244 242.277813)scale(0.14 -0.14)\">\n       <use xlink:href=\"#DejaVuSans-48\"/>\n      </g>\n     </g>\n    </g>\n    <g id=\"xtick_2\">\n     <g id=\"line2d_2\">\n      <g>\n       <use style=\"stroke:#000000;stroke-width:0.8;\" x=\"150.659531\" xlink:href=\"#mb2c2791c6f\" y=\"224.64\"/>\n      </g>\n     </g>\n     <g id=\"text_2\">\n      <!-- 200 -->\n      <defs>\n       <path d=\"M 19.1875 8.296875 \nL 53.609375 8.296875 \nL 53.609375 0 \nL 7.328125 0 \nL 7.328125 8.296875 \nQ 12.9375 14.109375 22.625 23.890625 \nQ 32.328125 33.6875 34.8125 36.53125 \nQ 39.546875 41.84375 41.421875 45.53125 \nQ 43.3125 49.21875 43.3125 52.78125 \nQ 43.3125 58.59375 39.234375 62.25 \nQ 35.15625 65.921875 28.609375 65.921875 \nQ 23.96875 65.921875 18.8125 64.3125 \nQ 13.671875 62.703125 7.8125 59.421875 \nL 7.8125 69.390625 \nQ 13.765625 71.78125 18.9375 73 \nQ 24.125 74.21875 28.421875 74.21875 \nQ 39.75 74.21875 46.484375 68.546875 \nQ 53.21875 62.890625 53.21875 53.421875 \nQ 53.21875 48.921875 51.53125 44.890625 \nQ 49.859375 40.875 45.40625 35.40625 \nQ 44.1875 33.984375 37.640625 27.21875 \nQ 31.109375 20.453125 19.1875 8.296875 \nz\n\" id=\"DejaVuSans-50\"/>\n      </defs>\n      <g transform=\"translate(137.298281 242.277813)scale(0.14 -0.14)\">\n       <use xlink:href=\"#DejaVuSans-50\"/>\n       <use x=\"63.623047\" xlink:href=\"#DejaVuSans-48\"/>\n       <use x=\"127.246094\" xlink:href=\"#DejaVuSans-48\"/>\n      </g>\n     </g>\n    </g>\n    <g id=\"xtick_3\">\n     <g id=\"line2d_3\">\n      <g>\n       <use style=\"stroke:#000000;stroke-width:0.8;\" x=\"211.448067\" xlink:href=\"#mb2c2791c6f\" y=\"224.64\"/>\n      </g>\n     </g>\n     <g id=\"text_3\">\n      <!-- 400 -->\n      <defs>\n       <path d=\"M 37.796875 64.3125 \nL 12.890625 25.390625 \nL 37.796875 25.390625 \nz\nM 35.203125 72.90625 \nL 47.609375 72.90625 \nL 47.609375 25.390625 \nL 58.015625 25.390625 \nL 58.015625 17.1875 \nL 47.609375 17.1875 \nL 47.609375 0 \nL 37.796875 0 \nL 37.796875 17.1875 \nL 4.890625 17.1875 \nL 4.890625 26.703125 \nz\n\" id=\"DejaVuSans-52\"/>\n      </defs>\n      <g transform=\"translate(198.086817 242.277813)scale(0.14 -0.14)\">\n       <use xlink:href=\"#DejaVuSans-52\"/>\n       <use x=\"63.623047\" xlink:href=\"#DejaVuSans-48\"/>\n       <use x=\"127.246094\" xlink:href=\"#DejaVuSans-48\"/>\n      </g>\n     </g>\n    </g>\n    <g id=\"xtick_4\">\n     <g id=\"line2d_4\">\n      <g>\n       <use style=\"stroke:#000000;stroke-width:0.8;\" x=\"272.236603\" xlink:href=\"#mb2c2791c6f\" y=\"224.64\"/>\n      </g>\n     </g>\n     <g id=\"text_4\">\n      <!-- 600 -->\n      <defs>\n       <path d=\"M 33.015625 40.375 \nQ 26.375 40.375 22.484375 35.828125 \nQ 18.609375 31.296875 18.609375 23.390625 \nQ 18.609375 15.53125 22.484375 10.953125 \nQ 26.375 6.390625 33.015625 6.390625 \nQ 39.65625 6.390625 43.53125 10.953125 \nQ 47.40625 15.53125 47.40625 23.390625 \nQ 47.40625 31.296875 43.53125 35.828125 \nQ 39.65625 40.375 33.015625 40.375 \nz\nM 52.59375 71.296875 \nL 52.59375 62.3125 \nQ 48.875 64.0625 45.09375 64.984375 \nQ 41.3125 65.921875 37.59375 65.921875 \nQ 27.828125 65.921875 22.671875 59.328125 \nQ 17.53125 52.734375 16.796875 39.40625 \nQ 19.671875 43.65625 24.015625 45.921875 \nQ 28.375 48.1875 33.59375 48.1875 \nQ 44.578125 48.1875 50.953125 41.515625 \nQ 57.328125 34.859375 57.328125 23.390625 \nQ 57.328125 12.15625 50.6875 5.359375 \nQ 44.046875 -1.421875 33.015625 -1.421875 \nQ 20.359375 -1.421875 13.671875 8.265625 \nQ 6.984375 17.96875 6.984375 36.375 \nQ 6.984375 53.65625 15.1875 63.9375 \nQ 23.390625 74.21875 37.203125 74.21875 \nQ 40.921875 74.21875 44.703125 73.484375 \nQ 48.484375 72.75 52.59375 71.296875 \nz\n\" id=\"DejaVuSans-54\"/>\n      </defs>\n      <g transform=\"translate(258.875353 242.277813)scale(0.14 -0.14)\">\n       <use xlink:href=\"#DejaVuSans-54\"/>\n       <use x=\"63.623047\" xlink:href=\"#DejaVuSans-48\"/>\n       <use x=\"127.246094\" xlink:href=\"#DejaVuSans-48\"/>\n      </g>\n     </g>\n    </g>\n    <g id=\"xtick_5\">\n     <g id=\"line2d_5\">\n      <g>\n       <use style=\"stroke:#000000;stroke-width:0.8;\" x=\"333.025139\" xlink:href=\"#mb2c2791c6f\" y=\"224.64\"/>\n      </g>\n     </g>\n     <g id=\"text_5\">\n      <!-- 800 -->\n      <defs>\n       <path d=\"M 31.78125 34.625 \nQ 24.75 34.625 20.71875 30.859375 \nQ 16.703125 27.09375 16.703125 20.515625 \nQ 16.703125 13.921875 20.71875 10.15625 \nQ 24.75 6.390625 31.78125 6.390625 \nQ 38.8125 6.390625 42.859375 10.171875 \nQ 46.921875 13.96875 46.921875 20.515625 \nQ 46.921875 27.09375 42.890625 30.859375 \nQ 38.875 34.625 31.78125 34.625 \nz\nM 21.921875 38.8125 \nQ 15.578125 40.375 12.03125 44.71875 \nQ 8.5 49.078125 8.5 55.328125 \nQ 8.5 64.0625 14.71875 69.140625 \nQ 20.953125 74.21875 31.78125 74.21875 \nQ 42.671875 74.21875 48.875 69.140625 \nQ 55.078125 64.0625 55.078125 55.328125 \nQ 55.078125 49.078125 51.53125 44.71875 \nQ 48 40.375 41.703125 38.8125 \nQ 48.828125 37.15625 52.796875 32.3125 \nQ 56.78125 27.484375 56.78125 20.515625 \nQ 56.78125 9.90625 50.3125 4.234375 \nQ 43.84375 -1.421875 31.78125 -1.421875 \nQ 19.734375 -1.421875 13.25 4.234375 \nQ 6.78125 9.90625 6.78125 20.515625 \nQ 6.78125 27.484375 10.78125 32.3125 \nQ 14.796875 37.15625 21.921875 38.8125 \nz\nM 18.3125 54.390625 \nQ 18.3125 48.734375 21.84375 45.5625 \nQ 25.390625 42.390625 31.78125 42.390625 \nQ 38.140625 42.390625 41.71875 45.5625 \nQ 45.3125 48.734375 45.3125 54.390625 \nQ 45.3125 60.0625 41.71875 63.234375 \nQ 38.140625 66.40625 31.78125 66.40625 \nQ 25.390625 66.40625 21.84375 63.234375 \nQ 18.3125 60.0625 18.3125 54.390625 \nz\n\" id=\"DejaVuSans-56\"/>\n      </defs>\n      <g transform=\"translate(319.663889 242.277813)scale(0.14 -0.14)\">\n       <use xlink:href=\"#DejaVuSans-56\"/>\n       <use x=\"63.623047\" xlink:href=\"#DejaVuSans-48\"/>\n       <use x=\"127.246094\" xlink:href=\"#DejaVuSans-48\"/>\n      </g>\n     </g>\n    </g>\n    <g id=\"xtick_6\">\n     <g id=\"line2d_6\">\n      <g>\n       <use style=\"stroke:#000000;stroke-width:0.8;\" x=\"393.813676\" xlink:href=\"#mb2c2791c6f\" y=\"224.64\"/>\n      </g>\n     </g>\n     <g id=\"text_6\">\n      <!-- 1000 -->\n      <defs>\n       <path d=\"M 12.40625 8.296875 \nL 28.515625 8.296875 \nL 28.515625 63.921875 \nL 10.984375 60.40625 \nL 10.984375 69.390625 \nL 28.421875 72.90625 \nL 38.28125 72.90625 \nL 38.28125 8.296875 \nL 54.390625 8.296875 \nL 54.390625 0 \nL 12.40625 0 \nz\n\" id=\"DejaVuSans-49\"/>\n      </defs>\n      <g transform=\"translate(375.998676 242.277813)scale(0.14 -0.14)\">\n       <use xlink:href=\"#DejaVuSans-49\"/>\n       <use x=\"63.623047\" xlink:href=\"#DejaVuSans-48\"/>\n       <use x=\"127.246094\" xlink:href=\"#DejaVuSans-48\"/>\n       <use x=\"190.869141\" xlink:href=\"#DejaVuSans-48\"/>\n      </g>\n     </g>\n    </g>\n    <g id=\"text_7\">\n     <!-- Time (ms) -->\n     <defs>\n      <path d=\"M -0.296875 72.90625 \nL 61.375 72.90625 \nL 61.375 64.59375 \nL 35.5 64.59375 \nL 35.5 0 \nL 25.59375 0 \nL 25.59375 64.59375 \nL -0.296875 64.59375 \nz\n\" id=\"DejaVuSans-84\"/>\n      <path d=\"M 9.421875 54.6875 \nL 18.40625 54.6875 \nL 18.40625 0 \nL 9.421875 0 \nz\nM 9.421875 75.984375 \nL 18.40625 75.984375 \nL 18.40625 64.59375 \nL 9.421875 64.59375 \nz\n\" id=\"DejaVuSans-105\"/>\n      <path d=\"M 52 44.1875 \nQ 55.375 50.25 60.0625 53.125 \nQ 64.75 56 71.09375 56 \nQ 79.640625 56 84.28125 50.015625 \nQ 88.921875 44.046875 88.921875 33.015625 \nL 88.921875 0 \nL 79.890625 0 \nL 79.890625 32.71875 \nQ 79.890625 40.578125 77.09375 44.375 \nQ 74.3125 48.1875 68.609375 48.1875 \nQ 61.625 48.1875 57.5625 43.546875 \nQ 53.515625 38.921875 53.515625 30.90625 \nL 53.515625 0 \nL 44.484375 0 \nL 44.484375 32.71875 \nQ 44.484375 40.625 41.703125 44.40625 \nQ 38.921875 48.1875 33.109375 48.1875 \nQ 26.21875 48.1875 22.15625 43.53125 \nQ 18.109375 38.875 18.109375 30.90625 \nL 18.109375 0 \nL 9.078125 0 \nL 9.078125 54.6875 \nL 18.109375 54.6875 \nL 18.109375 46.1875 \nQ 21.1875 51.21875 25.484375 53.609375 \nQ 29.78125 56 35.6875 56 \nQ 41.65625 56 45.828125 52.96875 \nQ 50 49.953125 52 44.1875 \nz\n\" id=\"DejaVuSans-109\"/>\n      <path d=\"M 56.203125 29.59375 \nL 56.203125 25.203125 \nL 14.890625 25.203125 \nQ 15.484375 15.921875 20.484375 11.0625 \nQ 25.484375 6.203125 34.421875 6.203125 \nQ 39.59375 6.203125 44.453125 7.46875 \nQ 49.3125 8.734375 54.109375 11.28125 \nL 54.109375 2.78125 \nQ 49.265625 0.734375 44.1875 -0.34375 \nQ 39.109375 -1.421875 33.890625 -1.421875 \nQ 20.796875 -1.421875 13.15625 6.1875 \nQ 5.515625 13.8125 5.515625 26.8125 \nQ 5.515625 40.234375 12.765625 48.109375 \nQ 20.015625 56 32.328125 56 \nQ 43.359375 56 49.78125 48.890625 \nQ 56.203125 41.796875 56.203125 29.59375 \nz\nM 47.21875 32.234375 \nQ 47.125 39.59375 43.09375 43.984375 \nQ 39.0625 48.390625 32.421875 48.390625 \nQ 24.90625 48.390625 20.390625 44.140625 \nQ 15.875 39.890625 15.1875 32.171875 \nz\n\" id=\"DejaVuSans-101\"/>\n      <path id=\"DejaVuSans-32\"/>\n      <path d=\"M 31 75.875 \nQ 24.46875 64.65625 21.28125 53.65625 \nQ 18.109375 42.671875 18.109375 31.390625 \nQ 18.109375 20.125 21.3125 9.0625 \nQ 24.515625 -2 31 -13.1875 \nL 23.1875 -13.1875 \nQ 15.875 -1.703125 12.234375 9.375 \nQ 8.59375 20.453125 8.59375 31.390625 \nQ 8.59375 42.28125 12.203125 53.3125 \nQ 15.828125 64.359375 23.1875 75.875 \nz\n\" id=\"DejaVuSans-40\"/>\n      <path d=\"M 44.28125 53.078125 \nL 44.28125 44.578125 \nQ 40.484375 46.53125 36.375 47.5 \nQ 32.28125 48.484375 27.875 48.484375 \nQ 21.1875 48.484375 17.84375 46.4375 \nQ 14.5 44.390625 14.5 40.28125 \nQ 14.5 37.15625 16.890625 35.375 \nQ 19.28125 33.59375 26.515625 31.984375 \nL 29.59375 31.296875 \nQ 39.15625 29.25 43.1875 25.515625 \nQ 47.21875 21.78125 47.21875 15.09375 \nQ 47.21875 7.46875 41.1875 3.015625 \nQ 35.15625 -1.421875 24.609375 -1.421875 \nQ 20.21875 -1.421875 15.453125 -0.5625 \nQ 10.6875 0.296875 5.421875 2 \nL 5.421875 11.28125 \nQ 10.40625 8.6875 15.234375 7.390625 \nQ 20.0625 6.109375 24.8125 6.109375 \nQ 31.15625 6.109375 34.5625 8.28125 \nQ 37.984375 10.453125 37.984375 14.40625 \nQ 37.984375 18.0625 35.515625 20.015625 \nQ 33.0625 21.96875 24.703125 23.78125 \nL 21.578125 24.515625 \nQ 13.234375 26.265625 9.515625 29.90625 \nQ 5.8125 33.546875 5.8125 39.890625 \nQ 5.8125 47.609375 11.28125 51.796875 \nQ 16.75 56 26.8125 56 \nQ 31.78125 56 36.171875 55.265625 \nQ 40.578125 54.546875 44.28125 53.078125 \nz\n\" id=\"DejaVuSans-115\"/>\n      <path d=\"M 8.015625 75.875 \nL 15.828125 75.875 \nQ 23.140625 64.359375 26.78125 53.3125 \nQ 30.421875 42.28125 30.421875 31.390625 \nQ 30.421875 20.453125 26.78125 9.375 \nQ 23.140625 -1.703125 15.828125 -13.1875 \nL 8.015625 -13.1875 \nQ 14.5 -2 17.703125 9.0625 \nQ 20.90625 20.125 20.90625 31.390625 \nQ 20.90625 42.671875 17.703125 53.65625 \nQ 14.5 64.65625 8.015625 75.875 \nz\n\" id=\"DejaVuSans-41\"/>\n     </defs>\n     <g transform=\"translate(206.773906 259.827188)scale(0.14 -0.14)\">\n      <use xlink:href=\"#DejaVuSans-84\"/>\n      <use x=\"57.958984\" xlink:href=\"#DejaVuSans-105\"/>\n      <use x=\"85.742188\" xlink:href=\"#DejaVuSans-109\"/>\n      <use x=\"183.154297\" xlink:href=\"#DejaVuSans-101\"/>\n      <use x=\"244.677734\" xlink:href=\"#DejaVuSans-32\"/>\n      <use x=\"276.464844\" xlink:href=\"#DejaVuSans-40\"/>\n      <use x=\"315.478516\" xlink:href=\"#DejaVuSans-109\"/>\n      <use x=\"412.890625\" xlink:href=\"#DejaVuSans-115\"/>\n      <use x=\"464.990234\" xlink:href=\"#DejaVuSans-41\"/>\n     </g>\n    </g>\n   </g>\n   <g id=\"matplotlib.axis_2\">\n    <g id=\"ytick_1\">\n     <g id=\"line2d_7\">\n      <defs>\n       <path d=\"M 0 0 \nL -3.5 0 \n\" id=\"mdfbb02a9da\" style=\"stroke:#000000;stroke-width:0.8;\"/>\n      </defs>\n      <g>\n       <use style=\"stroke:#000000;stroke-width:0.8;\" x=\"74.652813\" xlink:href=\"#mdfbb02a9da\" y=\"222.716382\"/>\n      </g>\n     </g>\n     <g id=\"text_8\">\n      <!-- −0.50 -->\n      <defs>\n       <path d=\"M 10.59375 35.5 \nL 73.1875 35.5 \nL 73.1875 27.203125 \nL 10.59375 27.203125 \nz\n\" id=\"DejaVuSans-8722\"/>\n       <path d=\"M 10.6875 12.40625 \nL 21 12.40625 \nL 21 0 \nL 10.6875 0 \nz\n\" id=\"DejaVuSans-46\"/>\n       <path d=\"M 10.796875 72.90625 \nL 49.515625 72.90625 \nL 49.515625 64.59375 \nL 19.828125 64.59375 \nL 19.828125 46.734375 \nQ 21.96875 47.46875 24.109375 47.828125 \nQ 26.265625 48.1875 28.421875 48.1875 \nQ 40.625 48.1875 47.75 41.5 \nQ 54.890625 34.8125 54.890625 23.390625 \nQ 54.890625 11.625 47.5625 5.09375 \nQ 40.234375 -1.421875 26.90625 -1.421875 \nQ 22.3125 -1.421875 17.546875 -0.640625 \nQ 12.796875 0.140625 7.71875 1.703125 \nL 7.71875 11.625 \nQ 12.109375 9.234375 16.796875 8.0625 \nQ 21.484375 6.890625 26.703125 6.890625 \nQ 35.15625 6.890625 40.078125 11.328125 \nQ 45.015625 15.765625 45.015625 23.390625 \nQ 45.015625 31 40.078125 35.4375 \nQ 35.15625 39.890625 26.703125 39.890625 \nQ 22.75 39.890625 18.8125 39.015625 \nQ 14.890625 38.140625 10.796875 36.28125 \nz\n\" id=\"DejaVuSans-53\"/>\n      </defs>\n      <g transform=\"translate(24.749375 228.035288)scale(0.14 -0.14)\">\n       <use xlink:href=\"#DejaVuSans-8722\"/>\n       <use x=\"83.789062\" xlink:href=\"#DejaVuSans-48\"/>\n       <use x=\"147.412109\" xlink:href=\"#DejaVuSans-46\"/>\n       <use x=\"179.199219\" xlink:href=\"#DejaVuSans-53\"/>\n       <use x=\"242.822266\" xlink:href=\"#DejaVuSans-48\"/>\n      </g>\n     </g>\n    </g>\n    <g id=\"ytick_2\">\n     <g id=\"line2d_8\">\n      <g>\n       <use style=\"stroke:#000000;stroke-width:0.8;\" x=\"74.652813\" xlink:href=\"#mdfbb02a9da\" y=\"188.075831\"/>\n      </g>\n     </g>\n     <g id=\"text_9\">\n      <!-- −0.25 -->\n      <g transform=\"translate(24.749375 193.394737)scale(0.14 -0.14)\">\n       <use xlink:href=\"#DejaVuSans-8722\"/>\n       <use x=\"83.789062\" xlink:href=\"#DejaVuSans-48\"/>\n       <use x=\"147.412109\" xlink:href=\"#DejaVuSans-46\"/>\n       <use x=\"179.199219\" xlink:href=\"#DejaVuSans-50\"/>\n       <use x=\"242.822266\" xlink:href=\"#DejaVuSans-53\"/>\n      </g>\n     </g>\n    </g>\n    <g id=\"ytick_3\">\n     <g id=\"line2d_9\">\n      <g>\n       <use style=\"stroke:#000000;stroke-width:0.8;\" x=\"74.652813\" xlink:href=\"#mdfbb02a9da\" y=\"153.435281\"/>\n      </g>\n     </g>\n     <g id=\"text_10\">\n      <!-- 0.00 -->\n      <g transform=\"translate(36.480938 158.754187)scale(0.14 -0.14)\">\n       <use xlink:href=\"#DejaVuSans-48\"/>\n       <use x=\"63.623047\" xlink:href=\"#DejaVuSans-46\"/>\n       <use x=\"95.410156\" xlink:href=\"#DejaVuSans-48\"/>\n       <use x=\"159.033203\" xlink:href=\"#DejaVuSans-48\"/>\n      </g>\n     </g>\n    </g>\n    <g id=\"ytick_4\">\n     <g id=\"line2d_10\">\n      <g>\n       <use style=\"stroke:#000000;stroke-width:0.8;\" x=\"74.652813\" xlink:href=\"#mdfbb02a9da\" y=\"118.79473\"/>\n      </g>\n     </g>\n     <g id=\"text_11\">\n      <!-- 0.25 -->\n      <g transform=\"translate(36.480938 124.113636)scale(0.14 -0.14)\">\n       <use xlink:href=\"#DejaVuSans-48\"/>\n       <use x=\"63.623047\" xlink:href=\"#DejaVuSans-46\"/>\n       <use x=\"95.410156\" xlink:href=\"#DejaVuSans-50\"/>\n       <use x=\"159.033203\" xlink:href=\"#DejaVuSans-53\"/>\n      </g>\n     </g>\n    </g>\n    <g id=\"ytick_5\">\n     <g id=\"line2d_11\">\n      <g>\n       <use style=\"stroke:#000000;stroke-width:0.8;\" x=\"74.652813\" xlink:href=\"#mdfbb02a9da\" y=\"84.15418\"/>\n      </g>\n     </g>\n     <g id=\"text_12\">\n      <!-- 0.50 -->\n      <g transform=\"translate(36.480938 89.473086)scale(0.14 -0.14)\">\n       <use xlink:href=\"#DejaVuSans-48\"/>\n       <use x=\"63.623047\" xlink:href=\"#DejaVuSans-46\"/>\n       <use x=\"95.410156\" xlink:href=\"#DejaVuSans-53\"/>\n       <use x=\"159.033203\" xlink:href=\"#DejaVuSans-48\"/>\n      </g>\n     </g>\n    </g>\n    <g id=\"ytick_6\">\n     <g id=\"line2d_12\">\n      <g>\n       <use style=\"stroke:#000000;stroke-width:0.8;\" x=\"74.652813\" xlink:href=\"#mdfbb02a9da\" y=\"49.513629\"/>\n      </g>\n     </g>\n     <g id=\"text_13\">\n      <!-- 0.75 -->\n      <defs>\n       <path d=\"M 8.203125 72.90625 \nL 55.078125 72.90625 \nL 55.078125 68.703125 \nL 28.609375 0 \nL 18.3125 0 \nL 43.21875 64.59375 \nL 8.203125 64.59375 \nz\n\" id=\"DejaVuSans-55\"/>\n      </defs>\n      <g transform=\"translate(36.480938 54.832535)scale(0.14 -0.14)\">\n       <use xlink:href=\"#DejaVuSans-48\"/>\n       <use x=\"63.623047\" xlink:href=\"#DejaVuSans-46\"/>\n       <use x=\"95.410156\" xlink:href=\"#DejaVuSans-55\"/>\n       <use x=\"159.033203\" xlink:href=\"#DejaVuSans-53\"/>\n      </g>\n     </g>\n    </g>\n    <g id=\"ytick_7\">\n     <g id=\"line2d_13\">\n      <g>\n       <use style=\"stroke:#000000;stroke-width:0.8;\" x=\"74.652813\" xlink:href=\"#mdfbb02a9da\" y=\"14.873079\"/>\n      </g>\n     </g>\n     <g id=\"text_14\">\n      <!-- 1.00 -->\n      <g transform=\"translate(36.480938 20.191985)scale(0.14 -0.14)\">\n       <use xlink:href=\"#DejaVuSans-49\"/>\n       <use x=\"63.623047\" xlink:href=\"#DejaVuSans-46\"/>\n       <use x=\"95.410156\" xlink:href=\"#DejaVuSans-48\"/>\n       <use x=\"159.033203\" xlink:href=\"#DejaVuSans-48\"/>\n      </g>\n     </g>\n    </g>\n    <g id=\"text_15\">\n     <!-- Amplitude -->\n     <defs>\n      <path d=\"M 34.1875 63.1875 \nL 20.796875 26.90625 \nL 47.609375 26.90625 \nz\nM 28.609375 72.90625 \nL 39.796875 72.90625 \nL 67.578125 0 \nL 57.328125 0 \nL 50.6875 18.703125 \nL 17.828125 18.703125 \nL 11.1875 0 \nL 0.78125 0 \nz\n\" id=\"DejaVuSans-65\"/>\n      <path d=\"M 18.109375 8.203125 \nL 18.109375 -20.796875 \nL 9.078125 -20.796875 \nL 9.078125 54.6875 \nL 18.109375 54.6875 \nL 18.109375 46.390625 \nQ 20.953125 51.265625 25.265625 53.625 \nQ 29.59375 56 35.59375 56 \nQ 45.5625 56 51.78125 48.09375 \nQ 58.015625 40.1875 58.015625 27.296875 \nQ 58.015625 14.40625 51.78125 6.484375 \nQ 45.5625 -1.421875 35.59375 -1.421875 \nQ 29.59375 -1.421875 25.265625 0.953125 \nQ 20.953125 3.328125 18.109375 8.203125 \nz\nM 48.6875 27.296875 \nQ 48.6875 37.203125 44.609375 42.84375 \nQ 40.53125 48.484375 33.40625 48.484375 \nQ 26.265625 48.484375 22.1875 42.84375 \nQ 18.109375 37.203125 18.109375 27.296875 \nQ 18.109375 17.390625 22.1875 11.75 \nQ 26.265625 6.109375 33.40625 6.109375 \nQ 40.53125 6.109375 44.609375 11.75 \nQ 48.6875 17.390625 48.6875 27.296875 \nz\n\" id=\"DejaVuSans-112\"/>\n      <path d=\"M 9.421875 75.984375 \nL 18.40625 75.984375 \nL 18.40625 0 \nL 9.421875 0 \nz\n\" id=\"DejaVuSans-108\"/>\n      <path d=\"M 18.3125 70.21875 \nL 18.3125 54.6875 \nL 36.8125 54.6875 \nL 36.8125 47.703125 \nL 18.3125 47.703125 \nL 18.3125 18.015625 \nQ 18.3125 11.328125 20.140625 9.421875 \nQ 21.96875 7.515625 27.59375 7.515625 \nL 36.8125 7.515625 \nL 36.8125 0 \nL 27.59375 0 \nQ 17.1875 0 13.234375 3.875 \nQ 9.28125 7.765625 9.28125 18.015625 \nL 9.28125 47.703125 \nL 2.6875 47.703125 \nL 2.6875 54.6875 \nL 9.28125 54.6875 \nL 9.28125 70.21875 \nz\n\" id=\"DejaVuSans-116\"/>\n      <path d=\"M 8.5 21.578125 \nL 8.5 54.6875 \nL 17.484375 54.6875 \nL 17.484375 21.921875 \nQ 17.484375 14.15625 20.5 10.265625 \nQ 23.53125 6.390625 29.59375 6.390625 \nQ 36.859375 6.390625 41.078125 11.03125 \nQ 45.3125 15.671875 45.3125 23.6875 \nL 45.3125 54.6875 \nL 54.296875 54.6875 \nL 54.296875 0 \nL 45.3125 0 \nL 45.3125 8.40625 \nQ 42.046875 3.421875 37.71875 1 \nQ 33.40625 -1.421875 27.6875 -1.421875 \nQ 18.265625 -1.421875 13.375 4.4375 \nQ 8.5 10.296875 8.5 21.578125 \nz\nM 31.109375 56 \nz\n\" id=\"DejaVuSans-117\"/>\n      <path d=\"M 45.40625 46.390625 \nL 45.40625 75.984375 \nL 54.390625 75.984375 \nL 54.390625 0 \nL 45.40625 0 \nL 45.40625 8.203125 \nQ 42.578125 3.328125 38.25 0.953125 \nQ 33.9375 -1.421875 27.875 -1.421875 \nQ 17.96875 -1.421875 11.734375 6.484375 \nQ 5.515625 14.40625 5.515625 27.296875 \nQ 5.515625 40.1875 11.734375 48.09375 \nQ 17.96875 56 27.875 56 \nQ 33.9375 56 38.25 53.625 \nQ 42.578125 51.265625 45.40625 46.390625 \nz\nM 14.796875 27.296875 \nQ 14.796875 17.390625 18.875 11.75 \nQ 22.953125 6.109375 30.078125 6.109375 \nQ 37.203125 6.109375 41.296875 11.75 \nQ 45.40625 17.390625 45.40625 27.296875 \nQ 45.40625 37.203125 41.296875 42.84375 \nQ 37.203125 48.484375 30.078125 48.484375 \nQ 22.953125 48.484375 18.875 42.84375 \nQ 14.796875 37.203125 14.796875 27.296875 \nz\n\" id=\"DejaVuSans-100\"/>\n     </defs>\n     <g transform=\"translate(17.837813 151.791719)rotate(-90)scale(0.14 -0.14)\">\n      <use xlink:href=\"#DejaVuSans-65\"/>\n      <use x=\"68.408203\" xlink:href=\"#DejaVuSans-109\"/>\n      <use x=\"165.820312\" xlink:href=\"#DejaVuSans-112\"/>\n      <use x=\"229.296875\" xlink:href=\"#DejaVuSans-108\"/>\n      <use x=\"257.080078\" xlink:href=\"#DejaVuSans-105\"/>\n      <use x=\"284.863281\" xlink:href=\"#DejaVuSans-116\"/>\n      <use x=\"324.072266\" xlink:href=\"#DejaVuSans-117\"/>\n      <use x=\"387.451172\" xlink:href=\"#DejaVuSans-100\"/>\n      <use x=\"450.927734\" xlink:href=\"#DejaVuSans-101\"/>\n     </g>\n    </g>\n   </g>\n   <g id=\"line2d_14\">\n    <path clip-path=\"url(#pce40790cd0)\" d=\"M 89.870994 153.569582 \nL 90.38253 153.83166 \nL 90.894065 154.502439 \nL 91.405601 156.050704 \nL 91.917136 159.254545 \nL 92.428672 165.146278 \nL 92.940207 174.639563 \nL 94.474814 213.28338 \nL 94.98635 213.574937 \nL 95.497885 196.223757 \nL 96.009421 158.920266 \nL 97.032492 55.949763 \nL 97.544027 21.57397 \nL 98.055563 17.083636 \nL 98.567098 44.196145 \nL 100.101705 187.95766 \nL 100.61324 210.81319 \nL 101.124776 214.756364 \nL 101.636311 205.873003 \nL 102.659382 177.886815 \nL 103.170918 167.351281 \nL 103.682453 160.547898 \nL 104.193989 156.719262 \nL 104.705524 154.810576 \nL 105.21706 153.95924 \nL 105.728596 153.617279 \nL 106.751667 153.452031 \nL 111.867022 153.435281 \nL 394.234631 153.435281 \nL 394.234631 153.435281 \n\" style=\"fill:none;stroke:#1f77b4;stroke-linecap:square;stroke-width:1.5;\"/>\n   </g>\n   <g id=\"patch_3\">\n    <path d=\"M 74.652813 224.64 \nL 74.652813 7.2 \n\" style=\"fill:none;stroke:#000000;stroke-linecap:square;stroke-linejoin:miter;stroke-width:0.8;\"/>\n   </g>\n   <g id=\"patch_4\">\n    <path d=\"M 409.452812 224.64 \nL 409.452812 7.2 \n\" style=\"fill:none;stroke:#000000;stroke-linecap:square;stroke-linejoin:miter;stroke-width:0.8;\"/>\n   </g>\n   <g id=\"patch_5\">\n    <path d=\"M 74.652813 224.64 \nL 409.452812 224.64 \n\" style=\"fill:none;stroke:#000000;stroke-linecap:square;stroke-linejoin:miter;stroke-width:0.8;\"/>\n   </g>\n   <g id=\"patch_6\">\n    <path d=\"M 74.652813 7.2 \nL 409.452812 7.2 \n\" style=\"fill:none;stroke:#000000;stroke-linecap:square;stroke-linejoin:miter;stroke-width:0.8;\"/>\n   </g>\n  </g>\n </g>\n <defs>\n  <clipPath id=\"pce40790cd0\">\n   <rect height=\"217.44\" width=\"334.8\" x=\"74.652813\" y=\"7.2\"/>\n  </clipPath>\n </defs>\n</svg>\n",
      "image/png": "[encoded data removed]"
     },
     "metadata": {
      "needs_background": "light"
     }
    }
   ],
   "source": [
    "# Centered Source with 38 Hz center frequency\n",
    "fpeak = 0.038\n",
    "src = RickerSource(name='src', grid=model.grid, f0=fpeak, time_range=time_range)\n",
    "src.coordinates.data[:] = np.array([1800., 1800., 1800.])\n",
    "\n",
    "# line of receivers along right edge of model\n",
    "## this needs to be fixed later on to be in line with the paper\n",
    "rec = Receiver(name='rec', grid=model.grid, npoint=nz, time_range=time_range)\n",
    "rec.coordinates.data[:] = np.array([3600., 3600., 1800.])\n",
    "\n",
    "print(\"src_coords [x,y,z]:\", src.coordinates.data)\n",
    "#print(\"rec_coords [x,y,z]:\", rec.coordinates.data)\n",
    "\n",
    "#plot time signature to view wavelet\n",
    "src.show()\n"
   ]
  },
  {
   "cell_type": "code",
   "execution_count": 7,
   "metadata": {
    "tags": [
     "outputPrepend"
    ]
   },
   "outputs": [],
   "source": [
    "#source injection term\n",
    "src_xx = src.inject(field=tau[0, 0].forward, expr=src*s)\n",
    "src_yy = src.inject(field=tau[1, 1].forward, expr=src*s)\n",
    "src_zz = src.inject(field=tau[2, 2].forward, expr=src*s)\n",
    "src_term = src_xx + src_yy + src_zz\n",
    "\n",
    "# Create interpolation expression for receivers\n",
    "rec_term_no = rec.interpolate(expr=tau.forward)\n",
    "\n",
    "irho = model.irho\n",
    "ro = model.rho\n",
    "\n",
    "##these coefficients are now computed by ModelElasticVTI\n",
    "# Thomsen's stiffness coefficients in elastic VTI media from The stiffness matrix, otherwise known as the elastic modulus matrix\n",
    "#c11 = ro*(1+2*eps)*vp**2\n",
    "#c33 = ro*vp**2\n",
    "#c44 = ro*vs**2\n",
    "#c66 = ro*(1+2*gamma)*vs**2\n",
    "#f = 1 - vs**2/vp**2\n",
    "#c13 = ro*vp**2*sp.sqrt(f*(f+2*delta))-ro*vs**2\n",
    "\n",
    "c11 = model.c11\n",
    "c33 = model.c33\n",
    "c44 = model.c44\n",
    "c66 = model.c66\n",
    "c13 = model.c13\n",
    "\n",
    "\n",
    "#Assemble full C matrix for VTI media\n",
    "C = np.diagflat([c11,c11,c33,c44,c44,c66])\n",
    "C[0][1] = c11 - 2*c66\n",
    "C[1][0] = C[0][1]\n",
    "C[0][2] = c13\n",
    "C[2][0] = C[0][2]\n",
    "C[2][1] = C[0][2]\n",
    "C[1][2] = C[2][1]\n",
    "\n",
    "\n",
    "##for vectorial PDE\n",
    "#Split full C matrix for VTI media\n",
    "C1 = sp.Matrix([[c11, c11 - 2*c66, c13], [c11 - 2*c66, c11, c13], [c13, c13, c33]])\n",
    "C2 = sp.Matrix([[c44, 0, 0], [0, c44, 0], [0, 0, c66]])\n",
    "\n"
   ]
  },
  {
   "cell_type": "markdown",
   "metadata": {},
   "source": [
    "## Assemble scalar PDEs individually\n"
   ]
  },
  {
   "cell_type": "code",
   "execution_count": 8,
   "metadata": {},
   "outputs": [],
   "source": [
    "# Particle Velocity for VTI Media for each direction\n",
    "u_vx = Eq(v[0].forward, v[0] + s*irho*(tau[0].dx + tau[1].dy + tau[2].dz) )\n",
    "u_vy = Eq(v[1].forward, v[1] + s*irho*(tau[3].dx + tau[4].dy + tau[5].dz) )\n",
    "u_vz = Eq(v[2].forward, v[2] + s*irho*(tau[6].dx + tau[7].dy + tau[8].dz) )\n",
    "\n",
    "# Stress equations:\n",
    "u_txx = Eq(tau[0].forward, tau[0] + s*(c11*v[0].dx + c11*v[1].dy - 2*c66*v[1].dy + c13*v[2].dz) )\n",
    "u_tyy = Eq(tau[4].forward, tau[4] + s*(c11*v[0].dx - 2*c66*v[0].dx + c11*v[1].dy + c13*v[2].dz) )\n",
    "u_tzz = Eq(tau[8].forward, tau[8] + s*(c13*v[0].dx + c13*v[1].dy + c33*v[2].dz) )\n",
    "\n",
    "u_txz = Eq(tau[2].forward, tau[2] + s*(c44*v[2].dx + c44*v[0].dz) )\n",
    "u_tyz = Eq(tau[5].forward, tau[5] + s*(c44*v[2].dy + c44*v[1].dz) )\n",
    "u_txy = Eq(tau[1].forward, tau[1] + s*(c66*v[1].dx + c66*v[0].dy) )\n",
    "\n",
    "stencil = [u_vx, u_vy, u_vz, u_txx, u_tyy, u_tzz, u_txz, u_tyz, u_txy]"
   ]
  },
  {
   "cell_type": "code",
   "execution_count": 8,
   "metadata": {
    "tags": [
     "outputPrepend",
     "outputPrepend",
     "outputPrepend",
     "outputPrepend",
     "outputPrepend",
     "outputPrepend",
     "outputPrepend",
     "outputPrepend",
     "outputPrepend"
    ]
   },
   "outputs": [
    {
     "output_type": "stream",
     "name": "stderr",
     "text": "MM_SET_FLUSH_ZERO_MODE(_MM_FLUSH_ZERO_ON);\n  for (int time = time_m, t0 = (time)%(3), t1 = (time + 1)%(3); time <= time_M; time += 1, t0 = (time)%(3), t1 = (time + 1)%(3))\n  {\n    struct timeval start_section0, end_section0;\n    gettimeofday(&start_section0, NULL);\n    /* Begin section0 */\n    bf0(c11,c13,c33,c44,c66,dt,irho,t_xx_vec,t_xy_vec,t_xz_vec,t_yy_vec,t_yz_vec,t_zz_vec,v_x_vec,v_y_vec,v_z_vec,t0,t1,x0_blk0_size,x_M - (x_M - x_m + 1)%(x0_blk0_size),x_m,y0_blk0_size,y_M - (y_M - y_m + 1)%(y0_blk0_size),y_m,z_M,z_m);\n    bf0(c11,c13,c33,c44,c66,dt,irho,t_xx_vec,t_xy_vec,t_xz_vec,t_yy_vec,t_yz_vec,t_zz_vec,v_x_vec,v_y_vec,v_z_vec,t0,t1,x0_blk0_size,x_M - (x_M - x_m + 1)%(x0_blk0_size),x_m,(y_M - y_m + 1)%(y0_blk0_size),y_M,y_M - (y_M - y_m + 1)%(y0_blk0_size) + 1,z_M,z_m);\n    bf0(c11,c13,c33,c44,c66,dt,irho,t_xx_vec,t_xy_vec,t_xz_vec,t_yy_vec,t_yz_vec,t_zz_vec,v_x_vec,v_y_vec,v_z_vec,t0,t1,(x_M - x_m + 1)%(x0_blk0_size),x_M,x_M - (x_M - x_m + 1)%(x0_blk0_size) + 1,y0_blk0_size,y_M - (y_M - y_m + 1)%(y0_blk0_size),y_m,z_M,z_m);\n    bf0(c11,c13,c33,c44,c66,dt,irho,t_xx_vec,t_xy_vec,t_xz_vec,t_yy_vec,t_yz_vec,t_zz_vec,v_x_vec,v_y_vec,v_z_vec,t0,t1,(x_M - x_m + 1)%(x0_blk0_size),x_M,x_M - (x_M - x_m + 1)%(x0_blk0_size) + 1,(y_M - y_m + 1)%(y0_blk0_size),y_M,y_M - (y_M - y_m + 1)%(y0_blk0_size) + 1,z_M,z_m);\n    /* End section0 */\n    gettimeofday(&end_section0, NULL);\n    timers->section0 += (double)(end_section0.tv_sec-start_section0.tv_sec)+(double)(end_section0.tv_usec-start_section0.tv_usec)/1000000;\n    struct timeval start_section1, end_section1;\n    gettimeofday(&start_section1, NULL);\n    /* Begin section1 */\n    for (int p_src = p_src_m; p_src <= p_src_M; p_src += 1)\n    {\n      int ii_src_0 = (int)(floor(-8.33333e-2*o_x + 8.33333e-2*src_coords[p_src][0]));\n      int ii_src_1 = (int)(floor(-8.33333e-2*o_y + 8.33333e-2*src_coords[p_src][1]));\n      int ii_src_2 = (int)(floor(-8.33333e-2*o_z + 8.33333e-2*src_coords[p_src][2]));\n      int ii_src_3 = (int)(floor(-8.33333e-2*o_z + 8.33333e-2*src_coords[p_src][2])) + 1;\n      int ii_src_4 = (int)(floor(-8.33333e-2*o_y + 8.33333e-2*src_coords[p_src][1])) + 1;\n      int ii_src_5 = (int)(floor(-8.33333e-2*o_x + 8.33333e-2*src_coords[p_src][0])) + 1;\n      float px = (float)(-o_x - 1.2e+1F*(int)(floor(-8.33333e-2F*o_x + 8.33333e-2F*src_coords[p_src][0])) + src_coords[p_src][0]);\n      float py = (float)(-o_y - 1.2e+1F*(int)(floor(-8.33333e-2F*o_y + 8.33333e-2F*src_coords[p_src][1])) + src_coords[p_src][1]);\n      float pz = (float)(-o_z - 1.2e+1F*(int)(floor(-8.33333e-2F*o_z + 8.33333e-2F*src_coords[p_src][2])) + src_coords[p_src][2]);\n      if (ii_src_0 >= x_m - 1 && ii_src_1 >= y_m - 1 && ii_src_2 >= z_m - 1 && ii_src_0 <= x_M + 1 && ii_src_1 <= y_M + 1 && ii_src_2 <= z_M + 1)\n      {\n        float r0 = dt*(-5.78704e-4F*px*py*pz + 6.94444e-3F*px*py + 6.94444e-3F*px*pz - 8.33333e-2F*px + 6.94444e-3F*py*pz - 8.33333e-2F*py - 8.33333e-2F*pz + 1)*src[time][p_src];\n        t_xx[t1][ii_src_0 + 4][ii_src_1 + 4][ii_src_2 + 4] += r0;\n      }\n      if (ii_src_0 >= x_m - 1 && ii_src_1 >= y_m - 1 && ii_src_3 >= z_m - 1 && ii_src_0 <= x_M + 1 && ii_src_1 <= y_M + 1 && ii_src_3 <= z_M + 1)\n      {\n        float r1 = dt*(5.78704e-4F*px*py*pz - 6.94444e-3F*px*pz - 6.94444e-3F*py*pz + 8.33333e-2F*pz)*src[time][p_src];\n        t_xx[t1][ii_src_0 + 4][ii_src_1 + 4][ii_src_3 + 4] += r1;\n      }\n      if (ii_src_0 >= x_m - 1 && ii_src_2 >= z_m - 1 && ii_src_4 >= y_m - 1 && ii_src_0 <= x_M + 1 && ii_src_2 <= z_M + 1 && ii_src_4 <= y_M + 1)\n      {\n        float r2 = dt*(5.78704e-4F*px*py*pz - 6.94444e-3F*px*py - 6.94444e-3F*py*pz + 8.33333e-2F*py)*src[time][p_src];\n        t_xx[t1][ii_src_0 + 4][ii_src_4 + 4][ii_src_2 + 4] += r2;\n      }\n      if (ii_src_0 >= x_m - 1 && ii_src_3 >= z_m - 1 && ii_src_4 >= y_m - 1 && ii_src_0 <= x_M + 1 && ii_src_3 <= z_M + 1 && ii_src_4 <= y_M + 1)\n      {\n        float r3 = dt*(-5.78704e-4F*px*py*pz + 6.94444e-3F*py*pz)*src[time][p_src];\n        t_xx[t1][ii_src_0 + 4][ii_src_4 + 4][ii_src_3 + 4] += r3;\n      }\n      if (ii_src_1 >= y_m - 1 && ii_src_2 >= z_m - 1 && ii_src_5 >= x_m - 1 && ii_src_1 <= y_M + 1 && ii_src_2 <= z_M + 1 && ii_src_5 <= x_M + 1)\n      {\n        float r4 = dt*(5.78704e-4F*px*py*pz - 6.94444e-3F*px*py - 6.94444e-3F*px*pz + 8.33333e-2F*px)*src[time][p_src];\n        t_xx[t1][ii_src_5 + 4][ii_src_1 + 4][ii_src_2 + 4] += r4;\n      }\n      if (ii_src_1 >= y_m - 1 && ii_src_3 >= z_m - 1 && ii_src_5 >= x_m - 1 && ii_src_1 <= y_M + 1 && ii_src_3 <= z_M + 1 && ii_src_5 <= x_M + 1)\n      {\n        float r5 = dt*(-5.78704e-4F*px*py*pz + 6.94444e-3F*px*pz)*src[time][p_src];\n        t_xx[t1][ii_src_5 + 4][ii_src_1 + 4][ii_src_3 + 4] += r5;\n      }\n      if (ii_src_2 >= z_m - 1 && ii_src_4 >= y_m - 1 && ii_src_5 >= x_m - 1 && ii_src_2 <= z_M + 1 && ii_src_4 <= y_M + 1 && ii_src_5 <= x_M + 1)\n      {\n        float r6 = dt*(-5.78704e-4F*px*py*pz + 6.94444e-3F*px*py)*src[time][p_src];\n        t_xx[t1][ii_src_5 + 4][ii_src_4 + 4][ii_src_2 + 4] += r6;\n      }\n      if (ii_src_3 >= z_m - 1 && ii_src_4 >= y_m - 1 && ii_src_5 >= x_m - 1 && ii_src_3 <= z_M + 1 && ii_src_4 <= y_M + 1 && ii_src_5 <= x_M + 1)\n      {\n        float r7 = 5.78704e-4F*px*py*pz*dt*src[time][p_src];\n        t_xx[t1][ii_src_5 + 4][ii_src_4 + 4][ii_src_3 + 4] += r7;\n      }\n      ii_src_0 = (int)(floor(-8.33333e-2*o_x + 8.33333e-2*src_coords[p_src][0]));\n      ii_src_1 = (int)(floor(-8.33333e-2*o_y + 8.33333e-2*src_coords[p_src][1]));\n      ii_src_2 = (int)(floor(-8.33333e-2*o_z + 8.33333e-2*src_coords[p_src][2]));\n      ii_src_3 = (int)(floor(-8.33333e-2*o_z + 8.33333e-2*src_coords[p_src][2])) + 1;\n      ii_src_4 = (int)(floor(-8.33333e-2*o_y + 8.33333e-2*src_coords[p_src][1])) + 1;\n      ii_src_5 = (int)(floor(-8.33333e-2*o_x + 8.33333e-2*src_coords[p_src][0])) + 1;\n      px = (float)(-o_x - 1.2e+1F*(int)(floor(-8.33333e-2F*o_x + 8.33333e-2F*src_coords[p_src][0])) + src_coords[p_src][0]);\n      py = (float)(-o_y - 1.2e+1F*(int)(floor(-8.33333e-2F*o_y + 8.33333e-2F*src_coords[p_src][1])) + src_coords[p_src][1]);\n      pz = (float)(-o_z - 1.2e+1F*(int)(floor(-8.33333e-2F*o_z + 8.33333e-2F*src_coords[p_src][2])) + src_coords[p_src][2]);\n      if (ii_src_0 >= x_m - 1 && ii_src_1 >= y_m - 1 && ii_src_2 >= z_m - 1 && ii_src_0 <= x_M + 1 && ii_src_1 <= y_M + 1 && ii_src_2 <= z_M + 1)\n      {\n        float r8 = dt*(-5.78704e-4F*px*py*pz + 6.94444e-3F*px*py + 6.94444e-3F*px*pz - 8.33333e-2F*px + 6.94444e-3F*py*pz - 8.33333e-2F*py - 8.33333e-2F*pz + 1)*src[time][p_src];\n        t_yy[t1][ii_src_0 + 4][ii_src_1 + 4][ii_src_2 + 4] += r8;\n      }\n      if (ii_src_0 >= x_m - 1 && ii_src_1 >= y_m - 1 && ii_src_3 >= z_m - 1 && ii_src_0 <= x_M + 1 && ii_src_1 <= y_M + 1 && ii_src_3 <= z_M + 1)\n      {\n        float r9 = dt*(5.78704e-4F*px*py*pz - 6.94444e-3F*px*pz - 6.94444e-3F*py*pz + 8.33333e-2F*pz)*src[time][p_src];\n        t_yy[t1][ii_src_0 + 4][ii_src_1 + 4][ii_src_3 + 4] += r9;\n      }\n      if (ii_src_0 >= x_m - 1 && ii_src_2 >= z_m - 1 && ii_src_4 >= y_m - 1 && ii_src_0 <= x_M + 1 && ii_src_2 <= z_M + 1 && ii_src_4 <= y_M + 1)\n      {\n        float r10 = dt*(5.78704e-4F*px*py*pz - 6.94444e-3F*px*py - 6.94444e-3F*py*pz + 8.33333e-2F*py)*src[time][p_src];\n        t_yy[t1][ii_src_0 + 4][ii_src_4 + 4][ii_src_2 + 4] += r10;\n      }\n      if (ii_src_0 >= x_m - 1 && ii_src_3 >= z_m - 1 && ii_src_4 >= y_m - 1 && ii_src_0 <= x_M + 1 && ii_src_3 <= z_M + 1 && ii_src_4 <= y_M + 1)\n      {\n        float r11 = dt*(-5.78704e-4F*px*py*pz + 6.94444e-3F*py*pz)*src[time][p_src];\n        t_yy[t1][ii_src_0 + 4][ii_src_4 + 4][ii_src_3 + 4] += r11;\n      }\n      if (ii_src_1 >= y_m - 1 && ii_src_2 >= z_m - 1 && ii_src_5 >= x_m - 1 && ii_src_1 <= y_M + 1 && ii_src_2 <= z_M + 1 && ii_src_5 <= x_M + 1)\n      {\n        float r12 = dt*(5.78704e-4F*px*py*pz - 6.94444e-3F*px*py - 6.94444e-3F*px*pz + 8.33333e-2F*px)*src[time][p_src];\n        t_yy[t1][ii_src_5 + 4][ii_src_1 + 4][ii_src_2 + 4] += r12;\n      }\n      if (ii_src_1 >= y_m - 1 && ii_src_3 >= z_m - 1 && ii_src_5 >= x_m - 1 && ii_src_1 <= y_M + 1 && ii_src_3 <= z_M + 1 && ii_src_5 <= x_M + 1)\n      {\n        float r13 = dt*(-5.78704e-4F*px*py*pz + 6.94444e-3F*px*pz)*src[time][p_src];\n        t_yy[t1][ii_src_5 + 4][ii_src_1 + 4][ii_src_3 + 4] += r13;\n      }\n      if (ii_src_2 >= z_m - 1 && ii_src_4 >= y_m - 1 && ii_src_5 >= x_m - 1 && ii_src_2 <= z_M + 1 && ii_src_4 <= y_M + 1 && ii_src_5 <= x_M + 1)\n      {\n        float r14 = dt*(-5.78704e-4F*px*py*pz + 6.94444e-3F*px*py)*src[time][p_src];\n        t_yy[t1][ii_src_5 + 4][ii_src_4 + 4][ii_src_2 + 4] += r14;\n      }\n      if (ii_src_3 >= z_m - 1 && ii_src_4 >= y_m - 1 && ii_src_5 >= x_m - 1 && ii_src_3 <= z_M + 1 && ii_src_4 <= y_M + 1 && ii_src_5 <= x_M + 1)\n      {\n        float r15 = 5.78704e-4F*px*py*pz*dt*src[time][p_src];\n        t_yy[t1][ii_src_5 + 4][ii_src_4 + 4][ii_src_3 + 4] += r15;\n      }\n      ii_src_0 = (int)(floor(-8.33333e-2*o_x + 8.33333e-2*src_coords[p_src][0]));\n      ii_src_1 = (int)(floor(-8.33333e-2*o_y + 8.33333e-2*src_coords[p_src][1]));\n      ii_src_2 = (int)(floor(-8.33333e-2*o_z + 8.33333e-2*src_coords[p_src][2]));\n      ii_src_3 = (int)(floor(-8.33333e-2*o_z + 8.33333e-2*src_coords[p_src][2])) + 1;\n      ii_src_4 = (int)(floor(-8.33333e-2*o_y + 8.33333e-2*src_coords[p_src][1])) + 1;\n      ii_src_5 = (int)(floor(-8.33333e-2*o_x + 8.33333e-2*src_coords[p_src][0])) + 1;\n      px = (float)(-o_x - 1.2e+1F*(int)(floor(-8.33333e-2F*o_x + 8.33333e-2F*src_coords[p_src][0])) + src_coords[p_src][0]);\n      py = (float)(-o_y - 1.2e+1F*(int)(floor(-8.33333e-2F*o_y + 8.33333e-2F*src_coords[p_src][1])) + src_coords[p_src][1]);\n      pz = (float)(-o_z - 1.2e+1F*(int)(floor(-8.33333e-2F*o_z + 8.33333e-2F*src_coords[p_src][2])) + src_coords[p_src][2]);\n      if (ii_src_0 >= x_m - 1 && ii_src_1 >= y_m - 1 && ii_src_2 >= z_m - 1 && ii_src_0 <= x_M + 1 && ii_src_1 <= y_M + 1 && ii_src_2 <= z_M + 1)\n      {\n        float r16 = dt*(-5.78704e-4F*px*py*pz + 6.94444e-3F*px*py + 6.94444e-3F*px*pz - 8.33333e-2F*px + 6.94444e-3F*py*pz - 8.33333e-2F*py - 8.33333e-2F*pz + 1)*src[time][p_src];\n        t_zz[t1][ii_src_0 + 4][ii_src_1 + 4][ii_src_2 + 4] += r16;\n      }\n      if (ii_src_0 >= x_m - 1 && ii_src_1 >= y_m - 1 && ii_src_3 >= z_m - 1 && ii_src_0 <= x_M + 1 && ii_src_1 <= y_M + 1 && ii_src_3 <= z_M + 1)\n      {\n        float r17 = dt*(5.78704e-4F*px*py*pz - 6.94444e-3F*px*pz - 6.94444e-3F*py*pz + 8.33333e-2F*pz)*src[time][p_src];\n        t_zz[t1][ii_src_0 + 4][ii_src_1 + 4][ii_src_3 + 4] += r17;\n      }\n      if (ii_src_0 >= x_m - 1 && ii_src_2 >= z_m - 1 && ii_src_4 >= y_m - 1 && ii_src_0 <= x_M + 1 && ii_src_2 <= z_M + 1 && ii_src_4 <= y_M + 1)\n      {\n        float r18 = dt*(5.78704e-4F*px*py*pz - 6.94444e-3F*px*py - 6.94444e-3F*py*pz + 8.33333e-2F*py)*src[time][p_src];\n        t_zz[t1][ii_src_0 + 4][ii_src_4 + 4][ii_src_2 + 4] += r18;\n      }\n      if (ii_src_0 >= x_m - 1 && ii_src_3 >= z_m - 1 && ii_src_4 >= y_m - 1 && ii_src_0 <= x_M + 1 && ii_src_3 <= z_M + 1 && ii_src_4 <= y_M + 1)\n      {\n        float r19 = dt*(-5.78704e-4F*px*py*pz + 6.94444e-3F*py*pz)*src[time][p_src];\n        t_zz[t1][ii_src_0 + 4][ii_src_4 + 4][ii_src_3 + 4] += r19;\n      }\n      if (ii_src_1 >= y_m - 1 && ii_src_2 >= z_m - 1 && ii_src_5 >= x_m - 1 && ii_src_1 <= y_M + 1 && ii_src_2 <= z_M + 1 && ii_src_5 <= x_M + 1)\n      {\n        float r20 = dt*(5.78704e-4F*px*py*pz - 6.94444e-3F*px*py - 6.94444e-3F*px*pz + 8.33333e-2F*px)*src[time][p_src];\n        t_zz[t1][ii_src_5 + 4][ii_src_1 + 4][ii_src_2 + 4] += r20;\n      }\n      if (ii_src_1 >= y_m - 1 && ii_src_3 >= z_m - 1 && ii_src_5 >= x_m - 1 && ii_src_1 <= y_M + 1 && ii_src_3 <= z_M + 1 && ii_src_5 <= x_M + 1)\n      {\n        float r21 = dt*(-5.78704e-4F*px*py*pz + 6.94444e-3F*px*pz)*src[time][p_src];\n        t_zz[t1][ii_src_5 + 4][ii_src_1 + 4][ii_src_3 + 4] += r21;\n      }\n      if (ii_src_2 >= z_m - 1 && ii_src_4 >= y_m - 1 && ii_src_5 >= x_m - 1 && ii_src_2 <= z_M + 1 && ii_src_4 <= y_M + 1 && ii_src_5 <= x_M + 1)\n      {\n        float r22 = dt*(-5.78704e-4F*px*py*pz + 6.94444e-3F*px*py)*src[time][p_src];\n        t_zz[t1][ii_src_5 + 4][ii_src_4 + 4][ii_src_2 + 4] += r22;\n      }\n      if (ii_src_3 >= z_m - 1 && ii_src_4 >= y_m - 1 && ii_src_5 >= x_m - 1 && ii_src_3 <= z_M + 1 && ii_src_4 <= y_M + 1 && ii_src_5 <= x_M + 1)\n      {\n        float r23 = 5.78704e-4F*px*py*pz*dt*src[time][p_src];\n        t_zz[t1][ii_src_5 + 4][ii_src_4 + 4][ii_src_3 + 4] += r23;\n      }\n    }\n    /* End section1 */\n    gettimeofday(&end_section1, NULL);\n    timers->section1 += (double)(end_section1.tv_sec-start_section1.tv_sec)+(double)(end_section1.tv_usec-start_section1.tv_usec)/1000000;\n  }\n  return 0;\n}\n\nvoid bf0(const float c11, const float c13, const float c33, const float c44, const float c66, const float dt, const float irho, struct dataobj *restrict t_xx_vec, struct dataobj *restrict t_xy_vec, struct dataobj *restrict t_xz_vec, struct dataobj *restrict t_yy_vec, struct dataobj *restrict t_yz_vec, struct dataobj *restrict t_zz_vec, struct dataobj *restrict v_x_vec, struct dataobj *restrict v_y_vec, struct dataobj *restrict v_z_vec, const int t0, const int t1, const int x0_blk0_size, const int x_M, const int x_m, const int y0_blk0_size, const int y_M, const int y_m, const int z_M, const int z_m)\n{\n  float (*restrict t_xx)[t_xx_vec->size[1]][t_xx_vec->size[2]][t_xx_vec->size[3]] __attribute__ ((aligned (64))) = (float (*)[t_xx_vec->size[1]][t_xx_vec->size[2]][t_xx_vec->size[3]]) t_xx_vec->data;\n  float (*restrict t_xy)[t_xy_vec->size[1]][t_xy_vec->size[2]][t_xy_vec->size[3]] __attribute__ ((aligned (64))) = (float (*)[t_xy_vec->size[1]][t_xy_vec->size[2]][t_xy_vec->size[3]]) t_xy_vec->data;\n  float (*restrict t_xz)[t_xz_vec->size[1]][t_xz_vec->size[2]][t_xz_vec->size[3]] __attribute__ ((aligned (64))) = (float (*)[t_xz_vec->size[1]][t_xz_vec->size[2]][t_xz_vec->size[3]]) t_xz_vec->data;\n  float (*restrict t_yy)[t_yy_vec->size[1]][t_yy_vec->size[2]][t_yy_vec->size[3]] __attribute__ ((aligned (64))) = (float (*)[t_yy_vec->size[1]][t_yy_vec->size[2]][t_yy_vec->size[3]]) t_yy_vec->data;\n  float (*restrict t_yz)[t_yz_vec->size[1]][t_yz_vec->size[2]][t_yz_vec->size[3]] __attribute__ ((aligned (64))) = (float (*)[t_yz_vec->size[1]][t_yz_vec->size[2]][t_yz_vec->size[3]]) t_yz_vec->data;\n  float (*restrict t_zz)[t_zz_vec->size[1]][t_zz_vec->size[2]][t_zz_vec->size[3]] __attribute__ ((aligned (64))) = (float (*)[t_zz_vec->size[1]][t_zz_vec->size[2]][t_zz_vec->size[3]]) t_zz_vec->data;\n  float (*restrict v_x)[v_x_vec->size[1]][v_x_vec->size[2]][v_x_vec->size[3]] __attribute__ ((aligned (64))) = (float (*)[v_x_vec->size[1]][v_x_vec->size[2]][v_x_vec->size[3]]) v_x_vec->data;\n  float (*restrict v_y)[v_y_vec->size[1]][v_y_vec->size[2]][v_y_vec->size[3]] __attribute__ ((aligned (64))) = (float (*)[v_y_vec->size[1]][v_y_vec->size[2]][v_y_vec->size[3]]) v_y_vec->data;\n  float (*restrict v_z)[v_z_vec->size[1]][v_z_vec->size[2]][v_z_vec->size[3]] __attribute__ ((aligned (64))) = (float (*)[v_z_vec->size[1]][v_z_vec->size[2]][v_z_vec->size[3]]) v_z_vec->data;\n  for (int x0_blk0 = x_m; x0_blk0 <= x_M; x0_blk0 += x0_blk0_size)\n  {\n    for (int y0_blk0 = y_m; y0_blk0 <= y_M; y0_blk0 += y0_blk0_size)\n    {\n      for (int x = x0_blk0; x <= x0_blk0 + x0_blk0_size - 1; x += 1)\n      {\n        for (int y = y0_blk0; y <= y0_blk0 + y0_blk0_size - 1; y += 1)\n        {\n          #pragma omp simd aligned(t_xx,t_xy,t_xz,t_yy,t_yz,t_zz,v_x,v_y,v_z:64)\n          for (int z = z_m; z <= z_M; z += 1)\n          {\n            float r53 = -v_z[t0][x + 4][y + 4][z + 4];\n            float r52 = -v_x[t0][x + 4][y + 4][z + 4];\n            float r51 = -v_y[t0][x + 4][y + 4][z + 4];\n            float r50 = 3.47222233e-3F*(v_x[t0][x + 2][y + 4][z + 4] - v_x[t0][x + 5][y + 4][z + 4]) + 9.37500028e-2F*(-v_x[t0][x + 3][y + 4][z + 4] + v_x[t0][x + 4][y + 4][z + 4]);\n            float r49 = 3.47222233e-3F*(v_y[t0][x + 4][y + 2][z + 4] - v_y[t0][x + 4][y + 5][z + 4]) + 9.37500028e-2F*(-v_y[t0][x + 4][y + 3][z + 4] + v_y[t0][x + 4][y + 4][z + 4]);\n            float r48 = 3.47222233e-3F*(v_z[t0][x + 4][y + 4][z + 2] - v_z[t0][x + 4][y + 4][z + 5]) + 9.37500028e-2F*(-v_z[t0][x + 4][y + 4][z + 3] + v_z[t0][x + 4][y + 4][z + 4]);\n            float r47 = r48*c13;\n            float r46 = r49*c11;\n            float r45 = r50*c11;\n            v_x[t1][x + 4][y + 4][z + 4] = dt*irho*(3.47222233e-3F*(t_xx[t0][x + 3][y + 4][z + 4] - t_xx[t0][x + 6][y + 4][z + 4] + t_xy[t0][x + 4][y + 2][z + 4] - t_xy[t0][x + 4][y + 5][z + 4] + t_xz[t0][x + 4][y + 4][z + 2] - t_xz[t0][x + 4][y + 4][z + 5]) + 9.37500028e-2F*(-t_xx[t0][x + 4][y + 4][z + 4] + t_xx[t0][x + 5][y + 4][z + 4] - t_xy[t0][x + 4][y + 3][z + 4] + t_xy[t0][x + 4][y + 4][z + 4] - t_xz[t0][x + 4][y + 4][z + 3] + t_xz[t0][x + 4][y + 4][z + 4])) + v_x[t0][x + 4][y + 4][z + 4];\n            v_y[t1][x + 4][y + 4][z + 4] = dt*irho*(3.47222233e-3F*(t_xy[t0][x + 2][y + 4][z + 4] - t_xy[t0][x + 5][y + 4][z + 4] + t_yy[t0][x + 4][y + 3][z + 4] - t_yy[t0][x + 4][y + 6][z + 4] + t_yz[t0][x + 4][y + 4][z + 2] - t_yz[t0][x + 4][y + 4][z + 5]) + 9.37500028e-2F*(-t_xy[t0][x + 3][y + 4][z + 4] + t_xy[t0][x + 4][y + 4][z + 4] - t_yy[t0][x + 4][y + 4][z + 4] + t_yy[t0][x + 4][y + 5][z + 4] - t_yz[t0][x + 4][y + 4][z + 3] + t_yz[t0][x + 4][y + 4][z + 4])) + v_y[t0][x + 4][y + 4][z + 4];\n            v_z[t1][x + 4][y + 4][z + 4] = dt*irho*(3.47222233e-3F*(t_xz[t0][x + 2][y + 4][z + 4] - t_xz[t0][x + 5][y + 4][z + 4] + t_yz[t0][x + 4][y + 2][z + 4] - t_yz[t0][x + 4][y + 5][z + 4] + t_zz[t0][x + 4][y + 4][z + 3] - t_zz[t0][x + 4][y + 4][z + 6]) + 9.37500028e-2F*(-t_xz[t0][x + 3][y + 4][z + 4] + t_xz[t0][x + 4][y + 4][z + 4] - t_yz[t0][x + 4][y + 3][z + 4] + t_yz[t0][x + 4][y + 4][z + 4] - t_zz[t0][x + 4][y + 4][z + 4] + t_zz[t0][x + 4][y + 4][z + 5])) + v_z[t0][x + 4][y + 4][z + 4];\n            t_xx[t1][x + 4][y + 4][z + 4] = dt*(r45 + r46 + r47 + c66*(1.87500006e-1F*(r51 + v_y[t0][x + 4][y + 3][z + 4]) + 6.94444465e-3F*(-v_y[t0][x + 4][y + 2][z + 4] + v_y[t0][x + 4][y + 5][z + 4]))) + t_xx[t0][x + 4][y + 4][z + 4];\n            t_yy[t1][x + 4][y + 4][z + 4] = dt*(r45 + r46 + r47 + c66*(1.87500006e-1F*(r52 + v_x[t0][x + 3][y + 4][z + 4]) + 6.94444465e-3F*(-v_x[t0][x + 2][y + 4][z + 4] + v_x[t0][x + 5][y + 4][z + 4]))) + t_yy[t0][x + 4][y + 4][z + 4];\n            t_zz[t1][x + 4][y + 4][z + 4] = dt*(r48*c33 + r49*c13 + r50*c13) + t_zz[t0][x + 4][y + 4][z + 4];\n            t_xz[t1][x + 4][y + 4][z + 4] = dt*(c44*(9.37500028e-2F*(r52 + v_x[t0][x + 4][y + 4][z + 5]) + 3.47222233e-3F*(v_x[t0][x + 4][y + 4][z + 3] - v_x[t0][x + 4][y + 4][z + 6])) + c44*(9.37500028e-2F*(r53 + v_z[t0][x + 5][y + 4][z + 4]) + 3.47222233e-3F*(v_z[t0][x + 3][y + 4][z + 4] - v_z[t0][x + 6][y + 4][z + 4]))) + t_xz[t0][x + 4][y + 4][z + 4];\n            t_yz[t1][x + 4][y + 4][z + 4] = dt*(c44*(9.37500028e-2F*(r51 + v_y[t0][x + 4][y + 4][z + 5]) + 3.47222233e-3F*(v_y[t0][x + 4][y + 4][z + 3] - v_y[t0][x + 4][y + 4][z + 6])) + c44*(9.37500028e-2F*(r53 + v_z[t0][x + 4][y + 5][z + 4]) + 3.47222233e-3F*(v_z[t0][x + 4][y + 3][z + 4] - v_z[t0][x + 4][y + 6][z + 4]))) + t_yz[t0][x + 4][y + 4][z + 4];\n            t_xy[t1][x + 4][y + 4][z + 4] = dt*(c66*(9.37500028e-2F*(r51 + v_y[t0][x + 5][y + 4][z + 4]) + 3.47222233e-3F*(v_y[t0][x + 3][y + 4][z + 4] - v_y[t0][x + 6][y + 4][z + 4])) + c66*(9.37500028e-2F*(r52 + v_x[t0][x + 4][y + 5][z + 4]) + 3.47222233e-3F*(v_x[t0][x + 4][y + 3][z + 4] - v_x[t0][x + 4][y + 6][z + 4]))) + t_xy[t0][x + 4][y + 4][z + 4];\n          }\n        }\n      }\n    }\n  }\n}\n\nAllocating memory for t_xz(3, 349, 349, 349)\nAllocating memory for t_yy(3, 349, 349, 349)\nAllocating memory for t_yz(3, 349, 349, 349)\nAllocating memory for t_zz(3, 349, 349, 349)\nAllocating memory for v_x(3, 349, 349, 349)\nAllocating memory for v_y(3, 349, 349, 349)\nAllocating memory for v_z(3, 349, 349, 349)\nOperator `Kernel` fetched `/var/folders/kb/bc2lwpvd4kj2k3qjll_cmwp80000gn/T/devito-jitcache-uid501/38e272057a8b0840dde9a88af6f2d0850563cbc6.c` in 0.05 s from jit-cache\n"
    }
   ],
   "source": [
    "#Assemble the operator \n",
    "op_fwd = Operator(stencil + src_term, subs=model.spacing_map)\n",
    "\n",
    "#Print generated c++ code\n",
    "print(op_fwd)\n",
    "\n",
    "#Forward Simulation\n",
    "op_fwd(dt=dt)"
   ]
  },
  {
   "cell_type": "markdown",
   "metadata": {},
   "source": [
    "## Assemble PDE in Vectorial form"
   ]
  },
  {
   "cell_type": "code",
   "execution_count": null,
   "metadata": {},
   "outputs": [],
   "source": [
    "irho = 1/ro \n",
    "\n",
    "# Particle Velocity for VTI Media\n",
    "u_v = Eq(v.forward, v + s*irho*div(tau))\n",
    "\n",
    "# Stress Equation stencil for the elastic case needs to be fixed for Elastic VTI\n",
    "\n",
    "\n",
    "#Assembles the PDE symbolically\n",
    "#u_t = Eq(tau.forward, tau + s * C1*diag(div(v.forward)) + s * C2*(grad(v.forward) + grad(v.forward).T)) ##need to fix this line \n",
    "#stencil = [u_v] + [u_t]\n",
    "print(type(diag(div(v.forward))))\n",
    "print(type(tau))\n",
    "print(type(C1))"
   ]
  },
  {
   "cell_type": "code",
   "execution_count": 9,
   "metadata": {},
   "outputs": [
    {
     "output_type": "execute_result",
     "data": {
      "text/plain": "Eq(Vector(v_x(t + dt, x + h_x/2, y, z), v_y(t + dt, x, y + h_y/2, z), v_z(t + dt, x, y, z + h_z/2)), Vector(dt*(Derivative(t_xx(t, x, y, z), x) + Derivative(t_xy(t, x + h_x/2, y + h_y/2, z), y) + Derivative(t_xz(t, x + h_x/2, y, z + h_z/2), z))/rho + v_x(t, x + h_x/2, y, z), dt*(Derivative(t_xy(t, x + h_x/2, y + h_y/2, z), x) + Derivative(t_yy(t, x, y, z), y) + Derivative(t_yz(t, x, y + h_y/2, z + h_z/2), z))/rho + v_y(t, x, y + h_y/2, z), dt*(Derivative(t_xz(t, x + h_x/2, y, z + h_z/2), x) + Derivative(t_yz(t, x, y + h_y/2, z + h_z/2), y) + Derivative(t_zz(t, x, y, z), z))/rho + v_z(t, x, y, z + h_z/2)))",
      "text/latex": "$\\displaystyle \\left[\\begin{matrix}\\operatorname{v_{x}}{\\left(t + dt,x + \\frac{h_{x}}{2},y,z \\right)}\\\\\\operatorname{v_{y}}{\\left(t + dt,x,y + \\frac{h_{y}}{2},z \\right)}\\\\\\operatorname{v_{z}}{\\left(t + dt,x,y,z + \\frac{h_{z}}{2} \\right)}\\end{matrix}\\right] = \\left[\\begin{matrix}\\frac{dt \\left(\\frac{\\partial}{\\partial x} \\operatorname{t_{xx}}{\\left(t,x,y,z \\right)} + \\frac{\\partial}{\\partial y} \\operatorname{t_{xy}}{\\left(t,x + \\frac{h_{x}}{2},y + \\frac{h_{y}}{2},z \\right)} + \\frac{\\partial}{\\partial z} \\operatorname{t_{xz}}{\\left(t,x + \\frac{h_{x}}{2},y,z + \\frac{h_{z}}{2} \\right)}\\right)}{\\rho} + \\operatorname{v_{x}}{\\left(t,x + \\frac{h_{x}}{2},y,z \\right)}\\\\\\frac{dt \\left(\\frac{\\partial}{\\partial x} \\operatorname{t_{xy}}{\\left(t,x + \\frac{h_{x}}{2},y + \\frac{h_{y}}{2},z \\right)} + \\frac{\\partial}{\\partial y} \\operatorname{t_{yy}}{\\left(t,x,y,z \\right)} + \\frac{\\partial}{\\partial z} \\operatorname{t_{yz}}{\\left(t,x,y + \\frac{h_{y}}{2},z + \\frac{h_{z}}{2} \\right)}\\right)}{\\rho} + \\operatorname{v_{y}}{\\left(t,x,y + \\frac{h_{y}}{2},z \\right)}\\\\\\frac{dt \\left(\\frac{\\partial}{\\partial x} \\operatorname{t_{xz}}{\\left(t,x + \\frac{h_{x}}{2},y,z + \\frac{h_{z}}{2} \\right)} + \\frac{\\partial}{\\partial y} \\operatorname{t_{yz}}{\\left(t,x,y + \\frac{h_{y}}{2},z + \\frac{h_{z}}{2} \\right)} + \\frac{\\partial}{\\partial z} \\operatorname{t_{zz}}{\\left(t,x,y,z \\right)}\\right)}{\\rho} + \\operatorname{v_{z}}{\\left(t,x,y,z + \\frac{h_{z}}{2} \\right)}\\end{matrix}\\right]$"
     },
     "metadata": {},
     "execution_count": 9
    }
   ],
   "source": [
    "#u_v check\n",
    "u_v"
   ]
  },
  {
   "cell_type": "code",
   "execution_count": 11,
   "metadata": {},
   "outputs": [],
   "source": [
    "#u_t check\n",
    "u_t"
   ]
  },
  {
   "cell_type": "code",
   "execution_count": 12,
   "metadata": {},
   "outputs": [],
   "source": [
    "#Forward Simulation\n",
    "#op_fwd = Operator([u_v] + [u_t]  + src_term)\n",
    "op_fwd()"
   ]
  },
  {
   "cell_type": "code",
   "execution_count": null,
   "metadata": {},
   "outputs": [],
   "source": [
    "#NBVAL_SKIP\n",
    "\n",
    "# Mid-points:\n",
    "mid_x = int(0.5*(v[0].data.shape[1]-1))+1\n",
    "mid_y = int(0.5*(v[0].data.shape[2]-1))+1\n",
    "\n",
    "# Plot some selected results:\n",
    "\n",
    "plot_image(v[0].data[1, :, mid_y, :], cmap=\"seismic\")\n",
    "plot_image(v[0].data[1, mid_x, :, :], cmap=\"seismic\")\n",
    "\n",
    "plot_image(tau[2, 2].data[1, :, mid_y, :], cmap=\"seismic\")\n",
    "plot_image(tau[2, 2].data[1, mid_x, :, :], cmap=\"seismic\")"
   ]
  },
  {
   "cell_type": "markdown",
   "metadata": {},
   "source": [
    "# References\n",
    "\n",
    "[1] Xu, S. and Liu, Y., 2019. Modeling 3D elastic VTI wave propagation using an optimal k-space operator-based temporal high-accuracy staggered-grid finite-difference scheme. Journal of Applied Geophysics, 170, p.103847.\n",
    "\n",
    "[2] Wang, Y., Mu, P., Duan, Y. and Wang, T., 2018. Numerical Simulation of Elastic Wave Equation and Analysis of Wave Field Characteristics in 2-D VTI Medium. Open Journal of Yangtze Oil and Gas, 3(03), p.153.\n"
   ]
  }
 ],
 "metadata": {
  "kernelspec": {
   "display_name": "Python 3",
   "language": "python",
   "name": "python3"
  },
  "language_info": {
   "codemirror_mode": {
    "name": "ipython",
    "version": 3
   },
   "file_extension": ".py",
   "mimetype": "text/x-python",
   "name": "python",
   "nbconvert_exporter": "python",
   "pygments_lexer": "ipython3",
   "version": "3.8.2-final"
  }
 },
 "nbformat": 4,
 "nbformat_minor": 4
}